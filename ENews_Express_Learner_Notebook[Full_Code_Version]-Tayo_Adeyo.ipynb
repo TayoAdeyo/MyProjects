{
 "cells": [
  {
   "cell_type": "markdown",
   "id": "6yDxo9u0d9Na",
   "metadata": {
    "id": "6yDxo9u0d9Na"
   },
   "source": [
    "# Project Business Statistics: E-news Express\n",
    "\n",
    "**Marks: 60**"
   ]
  },
  {
   "cell_type": "markdown",
   "id": "SrLd-ICEmPSD",
   "metadata": {
    "id": "SrLd-ICEmPSD"
   },
   "source": [
    "## Define Problem Statement and Objectives"
   ]
  },
  {
   "cell_type": "markdown",
   "id": "9Vt1PLLqmXNn",
   "metadata": {
    "id": "9Vt1PLLqmXNn"
   },
   "source": [
    "E-news Express wants to expand its subscriber base by analysing the actions of visitors to the newly created landing page on its website. This is to enable them understand their user's areas of interest and therefore use this to drive better engagement which ultimately will lead to getting them engaged long enough to make the decision to subscribe to E-news services. \n",
    "\n",
    "The objective is to explore the data so collected and carry out a statistical analysis to determine the effectiveness of the new landing page in gathering new subscribers for the organisation. The above is to be done by providing answers to the four questions asked."
   ]
  },
  {
   "cell_type": "markdown",
   "id": "a6a3d218",
   "metadata": {
    "id": "a6a3d218"
   },
   "source": [
    "## Import all the necessary libraries"
   ]
  },
  {
   "cell_type": "code",
   "execution_count": 1,
   "id": "658c5dec",
   "metadata": {
    "id": "658c5dec"
   },
   "outputs": [],
   "source": [
    "# import libraries for data manipulation\n",
    "import numpy as np\n",
    "import pandas as pd\n",
    "\n",
    "# import libraries for data visualization\n",
    "import matplotlib.pyplot as plt\n",
    "import seaborn as sns\n",
    "\n",
    "import scipy.stats as stats\n",
    "from statsmodels.stats.proportion import proportions_ztest\n",
    "from statsmodels.stats.multicomp import pairwise_tukeyhsd"
   ]
  },
  {
   "cell_type": "markdown",
   "id": "6970dd99",
   "metadata": {
    "id": "6970dd99"
   },
   "source": [
    "## Reading the Data into a DataFrame"
   ]
  },
  {
   "cell_type": "code",
   "execution_count": 2,
   "id": "d3b95640",
   "metadata": {
    "id": "d3b95640"
   },
   "outputs": [],
   "source": [
    "df = pd.read_csv('C:\\\\Users\\\\Tayo Adeyo\\\\Downloads\\\\Module2_week3\\\\abtest.csv')  "
   ]
  },
  {
   "cell_type": "markdown",
   "id": "9d75cfa2",
   "metadata": {
    "id": "9d75cfa2"
   },
   "source": [
    "## Explore the dataset and extract insights using Exploratory Data Analysis"
   ]
  },
  {
   "cell_type": "markdown",
   "id": "27201534",
   "metadata": {
    "id": "27201534"
   },
   "source": [
    "- Data Overview\n",
    "  - Viewing the first and last few rows of the dataset\n",
    "  - Checking the shape of the dataset\n",
    "  - Getting the statistical summary for the variables\n",
    "- Check for missing values\n",
    "- Check for duplicates"
   ]
  },
  {
   "cell_type": "code",
   "execution_count": 3,
   "id": "e1ad11d4",
   "metadata": {
    "id": "e1ad11d4"
   },
   "outputs": [
    {
     "data": {
      "text/html": [
       "<div>\n",
       "<style scoped>\n",
       "    .dataframe tbody tr th:only-of-type {\n",
       "        vertical-align: middle;\n",
       "    }\n",
       "\n",
       "    .dataframe tbody tr th {\n",
       "        vertical-align: top;\n",
       "    }\n",
       "\n",
       "    .dataframe thead th {\n",
       "        text-align: right;\n",
       "    }\n",
       "</style>\n",
       "<table border=\"1\" class=\"dataframe\">\n",
       "  <thead>\n",
       "    <tr style=\"text-align: right;\">\n",
       "      <th></th>\n",
       "      <th>user_id</th>\n",
       "      <th>group</th>\n",
       "      <th>landing_page</th>\n",
       "      <th>time_spent_on_the_page</th>\n",
       "      <th>converted</th>\n",
       "      <th>language_preferred</th>\n",
       "    </tr>\n",
       "  </thead>\n",
       "  <tbody>\n",
       "    <tr>\n",
       "      <th>0</th>\n",
       "      <td>546592</td>\n",
       "      <td>control</td>\n",
       "      <td>old</td>\n",
       "      <td>3.48</td>\n",
       "      <td>no</td>\n",
       "      <td>Spanish</td>\n",
       "    </tr>\n",
       "    <tr>\n",
       "      <th>1</th>\n",
       "      <td>546468</td>\n",
       "      <td>treatment</td>\n",
       "      <td>new</td>\n",
       "      <td>7.13</td>\n",
       "      <td>yes</td>\n",
       "      <td>English</td>\n",
       "    </tr>\n",
       "    <tr>\n",
       "      <th>2</th>\n",
       "      <td>546462</td>\n",
       "      <td>treatment</td>\n",
       "      <td>new</td>\n",
       "      <td>4.40</td>\n",
       "      <td>no</td>\n",
       "      <td>Spanish</td>\n",
       "    </tr>\n",
       "    <tr>\n",
       "      <th>3</th>\n",
       "      <td>546567</td>\n",
       "      <td>control</td>\n",
       "      <td>old</td>\n",
       "      <td>3.02</td>\n",
       "      <td>no</td>\n",
       "      <td>French</td>\n",
       "    </tr>\n",
       "    <tr>\n",
       "      <th>4</th>\n",
       "      <td>546459</td>\n",
       "      <td>treatment</td>\n",
       "      <td>new</td>\n",
       "      <td>4.75</td>\n",
       "      <td>yes</td>\n",
       "      <td>Spanish</td>\n",
       "    </tr>\n",
       "  </tbody>\n",
       "</table>\n",
       "</div>"
      ],
      "text/plain": [
       "   user_id      group landing_page  time_spent_on_the_page converted  \\\n",
       "0   546592    control          old                    3.48        no   \n",
       "1   546468  treatment          new                    7.13       yes   \n",
       "2   546462  treatment          new                    4.40        no   \n",
       "3   546567    control          old                    3.02        no   \n",
       "4   546459  treatment          new                    4.75       yes   \n",
       "\n",
       "  language_preferred  \n",
       "0            Spanish  \n",
       "1            English  \n",
       "2            Spanish  \n",
       "3             French  \n",
       "4            Spanish  "
      ]
     },
     "execution_count": 3,
     "metadata": {},
     "output_type": "execute_result"
    }
   ],
   "source": [
    "df.head() "
   ]
  },
  {
   "cell_type": "code",
   "execution_count": 4,
   "id": "3069ee5a",
   "metadata": {},
   "outputs": [
    {
     "data": {
      "text/html": [
       "<div>\n",
       "<style scoped>\n",
       "    .dataframe tbody tr th:only-of-type {\n",
       "        vertical-align: middle;\n",
       "    }\n",
       "\n",
       "    .dataframe tbody tr th {\n",
       "        vertical-align: top;\n",
       "    }\n",
       "\n",
       "    .dataframe thead th {\n",
       "        text-align: right;\n",
       "    }\n",
       "</style>\n",
       "<table border=\"1\" class=\"dataframe\">\n",
       "  <thead>\n",
       "    <tr style=\"text-align: right;\">\n",
       "      <th></th>\n",
       "      <th>user_id</th>\n",
       "      <th>group</th>\n",
       "      <th>landing_page</th>\n",
       "      <th>time_spent_on_the_page</th>\n",
       "      <th>converted</th>\n",
       "      <th>language_preferred</th>\n",
       "    </tr>\n",
       "  </thead>\n",
       "  <tbody>\n",
       "    <tr>\n",
       "      <th>95</th>\n",
       "      <td>546446</td>\n",
       "      <td>treatment</td>\n",
       "      <td>new</td>\n",
       "      <td>5.15</td>\n",
       "      <td>no</td>\n",
       "      <td>Spanish</td>\n",
       "    </tr>\n",
       "    <tr>\n",
       "      <th>96</th>\n",
       "      <td>546544</td>\n",
       "      <td>control</td>\n",
       "      <td>old</td>\n",
       "      <td>6.52</td>\n",
       "      <td>yes</td>\n",
       "      <td>English</td>\n",
       "    </tr>\n",
       "    <tr>\n",
       "      <th>97</th>\n",
       "      <td>546472</td>\n",
       "      <td>treatment</td>\n",
       "      <td>new</td>\n",
       "      <td>7.07</td>\n",
       "      <td>yes</td>\n",
       "      <td>Spanish</td>\n",
       "    </tr>\n",
       "    <tr>\n",
       "      <th>98</th>\n",
       "      <td>546481</td>\n",
       "      <td>treatment</td>\n",
       "      <td>new</td>\n",
       "      <td>6.20</td>\n",
       "      <td>yes</td>\n",
       "      <td>Spanish</td>\n",
       "    </tr>\n",
       "    <tr>\n",
       "      <th>99</th>\n",
       "      <td>546483</td>\n",
       "      <td>treatment</td>\n",
       "      <td>new</td>\n",
       "      <td>5.86</td>\n",
       "      <td>yes</td>\n",
       "      <td>English</td>\n",
       "    </tr>\n",
       "  </tbody>\n",
       "</table>\n",
       "</div>"
      ],
      "text/plain": [
       "    user_id      group landing_page  time_spent_on_the_page converted  \\\n",
       "95   546446  treatment          new                    5.15        no   \n",
       "96   546544    control          old                    6.52       yes   \n",
       "97   546472  treatment          new                    7.07       yes   \n",
       "98   546481  treatment          new                    6.20       yes   \n",
       "99   546483  treatment          new                    5.86       yes   \n",
       "\n",
       "   language_preferred  \n",
       "95            Spanish  \n",
       "96            English  \n",
       "97            Spanish  \n",
       "98            Spanish  \n",
       "99            English  "
      ]
     },
     "execution_count": 4,
     "metadata": {},
     "output_type": "execute_result"
    }
   ],
   "source": [
    "df.tail() "
   ]
  },
  {
   "cell_type": "code",
   "execution_count": 5,
   "id": "f96bc58e",
   "metadata": {},
   "outputs": [
    {
     "name": "stdout",
     "output_type": "stream",
     "text": [
      "<class 'pandas.core.frame.DataFrame'>\n",
      "RangeIndex: 100 entries, 0 to 99\n",
      "Data columns (total 6 columns):\n",
      " #   Column                  Non-Null Count  Dtype  \n",
      "---  ------                  --------------  -----  \n",
      " 0   user_id                 100 non-null    int64  \n",
      " 1   group                   100 non-null    object \n",
      " 2   landing_page            100 non-null    object \n",
      " 3   time_spent_on_the_page  100 non-null    float64\n",
      " 4   converted               100 non-null    object \n",
      " 5   language_preferred      100 non-null    object \n",
      "dtypes: float64(1), int64(1), object(4)\n",
      "memory usage: 4.8+ KB\n"
     ]
    }
   ],
   "source": [
    "df.info()"
   ]
  },
  {
   "cell_type": "code",
   "execution_count": 6,
   "id": "eb592a80",
   "metadata": {},
   "outputs": [
    {
     "data": {
      "text/plain": [
       "(100, 6)"
      ]
     },
     "execution_count": 6,
     "metadata": {},
     "output_type": "execute_result"
    }
   ],
   "source": [
    "df.shape"
   ]
  },
  {
   "cell_type": "code",
   "execution_count": 7,
   "id": "fd0c41d1",
   "metadata": {},
   "outputs": [
    {
     "data": {
      "text/html": [
       "<div>\n",
       "<style scoped>\n",
       "    .dataframe tbody tr th:only-of-type {\n",
       "        vertical-align: middle;\n",
       "    }\n",
       "\n",
       "    .dataframe tbody tr th {\n",
       "        vertical-align: top;\n",
       "    }\n",
       "\n",
       "    .dataframe thead th {\n",
       "        text-align: right;\n",
       "    }\n",
       "</style>\n",
       "<table border=\"1\" class=\"dataframe\">\n",
       "  <thead>\n",
       "    <tr style=\"text-align: right;\">\n",
       "      <th></th>\n",
       "      <th>count</th>\n",
       "      <th>mean</th>\n",
       "      <th>std</th>\n",
       "      <th>min</th>\n",
       "      <th>25%</th>\n",
       "      <th>50%</th>\n",
       "      <th>75%</th>\n",
       "      <th>max</th>\n",
       "    </tr>\n",
       "  </thead>\n",
       "  <tbody>\n",
       "    <tr>\n",
       "      <th>user_id</th>\n",
       "      <td>100.0</td>\n",
       "      <td>546517.0000</td>\n",
       "      <td>52.295779</td>\n",
       "      <td>546443.00</td>\n",
       "      <td>546467.75</td>\n",
       "      <td>546492.500</td>\n",
       "      <td>546567.2500</td>\n",
       "      <td>546592.00</td>\n",
       "    </tr>\n",
       "    <tr>\n",
       "      <th>time_spent_on_the_page</th>\n",
       "      <td>100.0</td>\n",
       "      <td>5.3778</td>\n",
       "      <td>2.378166</td>\n",
       "      <td>0.19</td>\n",
       "      <td>3.88</td>\n",
       "      <td>5.415</td>\n",
       "      <td>7.0225</td>\n",
       "      <td>10.71</td>\n",
       "    </tr>\n",
       "  </tbody>\n",
       "</table>\n",
       "</div>"
      ],
      "text/plain": [
       "                        count         mean        std        min        25%  \\\n",
       "user_id                 100.0  546517.0000  52.295779  546443.00  546467.75   \n",
       "time_spent_on_the_page  100.0       5.3778   2.378166       0.19       3.88   \n",
       "\n",
       "                               50%          75%        max  \n",
       "user_id                 546492.500  546567.2500  546592.00  \n",
       "time_spent_on_the_page       5.415       7.0225      10.71  "
      ]
     },
     "execution_count": 7,
     "metadata": {},
     "output_type": "execute_result"
    }
   ],
   "source": [
    "df.describe().T"
   ]
  },
  {
   "cell_type": "code",
   "execution_count": 8,
   "id": "02f5aac0",
   "metadata": {
    "scrolled": true
   },
   "outputs": [
    {
     "data": {
      "text/html": [
       "<div>\n",
       "<style scoped>\n",
       "    .dataframe tbody tr th:only-of-type {\n",
       "        vertical-align: middle;\n",
       "    }\n",
       "\n",
       "    .dataframe tbody tr th {\n",
       "        vertical-align: top;\n",
       "    }\n",
       "\n",
       "    .dataframe thead th {\n",
       "        text-align: right;\n",
       "    }\n",
       "</style>\n",
       "<table border=\"1\" class=\"dataframe\">\n",
       "  <thead>\n",
       "    <tr style=\"text-align: right;\">\n",
       "      <th></th>\n",
       "      <th>count</th>\n",
       "      <th>unique</th>\n",
       "      <th>top</th>\n",
       "      <th>freq</th>\n",
       "      <th>mean</th>\n",
       "      <th>std</th>\n",
       "      <th>min</th>\n",
       "      <th>25%</th>\n",
       "      <th>50%</th>\n",
       "      <th>75%</th>\n",
       "      <th>max</th>\n",
       "    </tr>\n",
       "  </thead>\n",
       "  <tbody>\n",
       "    <tr>\n",
       "      <th>user_id</th>\n",
       "      <td>100.0</td>\n",
       "      <td>NaN</td>\n",
       "      <td>NaN</td>\n",
       "      <td>NaN</td>\n",
       "      <td>546517.0</td>\n",
       "      <td>52.295779</td>\n",
       "      <td>546443.0</td>\n",
       "      <td>546467.75</td>\n",
       "      <td>546492.5</td>\n",
       "      <td>546567.25</td>\n",
       "      <td>546592.0</td>\n",
       "    </tr>\n",
       "    <tr>\n",
       "      <th>group</th>\n",
       "      <td>100</td>\n",
       "      <td>2</td>\n",
       "      <td>control</td>\n",
       "      <td>50</td>\n",
       "      <td>NaN</td>\n",
       "      <td>NaN</td>\n",
       "      <td>NaN</td>\n",
       "      <td>NaN</td>\n",
       "      <td>NaN</td>\n",
       "      <td>NaN</td>\n",
       "      <td>NaN</td>\n",
       "    </tr>\n",
       "    <tr>\n",
       "      <th>landing_page</th>\n",
       "      <td>100</td>\n",
       "      <td>2</td>\n",
       "      <td>old</td>\n",
       "      <td>50</td>\n",
       "      <td>NaN</td>\n",
       "      <td>NaN</td>\n",
       "      <td>NaN</td>\n",
       "      <td>NaN</td>\n",
       "      <td>NaN</td>\n",
       "      <td>NaN</td>\n",
       "      <td>NaN</td>\n",
       "    </tr>\n",
       "    <tr>\n",
       "      <th>time_spent_on_the_page</th>\n",
       "      <td>100.0</td>\n",
       "      <td>NaN</td>\n",
       "      <td>NaN</td>\n",
       "      <td>NaN</td>\n",
       "      <td>5.3778</td>\n",
       "      <td>2.378166</td>\n",
       "      <td>0.19</td>\n",
       "      <td>3.88</td>\n",
       "      <td>5.415</td>\n",
       "      <td>7.0225</td>\n",
       "      <td>10.71</td>\n",
       "    </tr>\n",
       "    <tr>\n",
       "      <th>converted</th>\n",
       "      <td>100</td>\n",
       "      <td>2</td>\n",
       "      <td>yes</td>\n",
       "      <td>54</td>\n",
       "      <td>NaN</td>\n",
       "      <td>NaN</td>\n",
       "      <td>NaN</td>\n",
       "      <td>NaN</td>\n",
       "      <td>NaN</td>\n",
       "      <td>NaN</td>\n",
       "      <td>NaN</td>\n",
       "    </tr>\n",
       "    <tr>\n",
       "      <th>language_preferred</th>\n",
       "      <td>100</td>\n",
       "      <td>3</td>\n",
       "      <td>Spanish</td>\n",
       "      <td>34</td>\n",
       "      <td>NaN</td>\n",
       "      <td>NaN</td>\n",
       "      <td>NaN</td>\n",
       "      <td>NaN</td>\n",
       "      <td>NaN</td>\n",
       "      <td>NaN</td>\n",
       "      <td>NaN</td>\n",
       "    </tr>\n",
       "  </tbody>\n",
       "</table>\n",
       "</div>"
      ],
      "text/plain": [
       "                        count unique      top freq      mean        std  \\\n",
       "user_id                 100.0    NaN      NaN  NaN  546517.0  52.295779   \n",
       "group                     100      2  control   50       NaN        NaN   \n",
       "landing_page              100      2      old   50       NaN        NaN   \n",
       "time_spent_on_the_page  100.0    NaN      NaN  NaN    5.3778   2.378166   \n",
       "converted                 100      2      yes   54       NaN        NaN   \n",
       "language_preferred        100      3  Spanish   34       NaN        NaN   \n",
       "\n",
       "                             min        25%       50%        75%       max  \n",
       "user_id                 546443.0  546467.75  546492.5  546567.25  546592.0  \n",
       "group                        NaN        NaN       NaN        NaN       NaN  \n",
       "landing_page                 NaN        NaN       NaN        NaN       NaN  \n",
       "time_spent_on_the_page      0.19       3.88     5.415     7.0225     10.71  \n",
       "converted                    NaN        NaN       NaN        NaN       NaN  \n",
       "language_preferred           NaN        NaN       NaN        NaN       NaN  "
      ]
     },
     "execution_count": 8,
     "metadata": {},
     "output_type": "execute_result"
    }
   ],
   "source": [
    "df.describe(include='all').T"
   ]
  },
  {
   "cell_type": "code",
   "execution_count": 9,
   "id": "c46ff026",
   "metadata": {},
   "outputs": [
    {
     "data": {
      "text/plain": [
       "user_id  group  landing_page  time_spent_on_the_page  converted  language_preferred\n",
       "False    False  False         False                   False      False                 100\n",
       "dtype: int64"
      ]
     },
     "execution_count": 9,
     "metadata": {},
     "output_type": "execute_result"
    }
   ],
   "source": [
    "df.isnull().value_counts()"
   ]
  },
  {
   "cell_type": "code",
   "execution_count": 10,
   "id": "b9e604c3",
   "metadata": {},
   "outputs": [
    {
     "data": {
      "text/plain": [
       "False    100\n",
       "dtype: int64"
      ]
     },
     "execution_count": 10,
     "metadata": {},
     "output_type": "execute_result"
    }
   ],
   "source": [
    "df.duplicated().value_counts()"
   ]
  },
  {
   "cell_type": "markdown",
   "id": "5dc43f94",
   "metadata": {},
   "source": [
    "### Observations\n",
    "The DataFrame has 6 columns as mentioned in the Data Dictionary section of the problem statement.  Data in each row corresponds to the user's interaction with the version of the landing page (old or new) allotted to them.\n",
    "\n",
    "All the colums have the same number of observations - 100\n",
    "There are no missing entries and there are no duplicates either.\n",
    "\n",
    "The \"time_spent_on_the_page\" and the  \"user_id\" columns are numerical variables of type float64 and int64 respectively.\n",
    "\n",
    "All the other columns are categorical variables and are read in as such.\n"
   ]
  },
  {
   "cell_type": "markdown",
   "id": "68f3b2c9",
   "metadata": {
    "id": "68f3b2c9"
   },
   "source": [
    "### Univariate Analysis"
   ]
  },
  {
   "cell_type": "code",
   "execution_count": 11,
   "id": "1932d0f3",
   "metadata": {
    "id": "1932d0f3"
   },
   "outputs": [
    {
     "data": {
      "image/png": "[encoded data removed]",
      "text/plain": [
       "<Figure size 432x288 with 1 Axes>"
      ]
     },
     "metadata": {
      "needs_background": "light"
     },
     "output_type": "display_data"
    },
    {
     "data": {
      "image/png": "[encoded data removed]",
      "text/plain": [
       "<Figure size 432x288 with 1 Axes>"
      ]
     },
     "metadata": {
      "needs_background": "light"
     },
     "output_type": "display_data"
    }
   ],
   "source": [
    "sns.histplot(data=df, x='time_spent_on_the_page', kde=True);\n",
    "plt.show()\n",
    "sns.boxplot(data=df, x='time_spent_on_the_page');\n",
    "plt.show()"
   ]
  },
  {
   "cell_type": "markdown",
   "id": "9f8cc12b",
   "metadata": {},
   "source": [
    "### Observation\n",
    "Time spent the landing pages follows a normal distribution.\n",
    "\n",
    "There are no outliers and the mean and median are almost the same at 5.38 and 5.42 respectively"
   ]
  },
  {
   "cell_type": "code",
   "execution_count": 12,
   "id": "e16dbcbd",
   "metadata": {},
   "outputs": [
    {
     "data": {
      "text/plain": [
       "2"
      ]
     },
     "execution_count": 12,
     "metadata": {},
     "output_type": "execute_result"
    }
   ],
   "source": [
    "df['group'].nunique()"
   ]
  },
  {
   "cell_type": "code",
   "execution_count": 13,
   "id": "32bc1617",
   "metadata": {},
   "outputs": [
    {
     "data": {
      "text/plain": [
       "control      50\n",
       "treatment    50\n",
       "Name: group, dtype: int64"
      ]
     },
     "execution_count": 13,
     "metadata": {},
     "output_type": "execute_result"
    }
   ],
   "source": [
    "df['group'].value_counts()"
   ]
  },
  {
   "cell_type": "code",
   "execution_count": 14,
   "id": "b0d806bd",
   "metadata": {},
   "outputs": [
    {
     "data": {
      "image/png": "[encoded data removed]",
      "text/plain": [
       "<Figure size 432x288 with 1 Axes>"
      ]
     },
     "metadata": {
      "needs_background": "light"
     },
     "output_type": "display_data"
    }
   ],
   "source": [
    "sns.countplot(data=df, x='group');"
   ]
  },
  {
   "cell_type": "code",
   "execution_count": 15,
   "id": "3b558804",
   "metadata": {},
   "outputs": [
    {
     "data": {
      "text/plain": [
       "2"
      ]
     },
     "execution_count": 15,
     "metadata": {},
     "output_type": "execute_result"
    }
   ],
   "source": [
    "df['landing_page'].nunique()"
   ]
  },
  {
   "cell_type": "code",
   "execution_count": 16,
   "id": "caeeba76",
   "metadata": {},
   "outputs": [
    {
     "data": {
      "text/plain": [
       "old    50\n",
       "new    50\n",
       "Name: landing_page, dtype: int64"
      ]
     },
     "execution_count": 16,
     "metadata": {},
     "output_type": "execute_result"
    }
   ],
   "source": [
    "df['landing_page'].value_counts()"
   ]
  },
  {
   "cell_type": "code",
   "execution_count": 17,
   "id": "8f63b81a",
   "metadata": {},
   "outputs": [
    {
     "data": {
      "image/png": "[encoded data removed]",
      "text/plain": [
       "<Figure size 432x288 with 1 Axes>"
      ]
     },
     "metadata": {
      "needs_background": "light"
     },
     "output_type": "display_data"
    }
   ],
   "source": [
    "sns.countplot(data=df, x='landing_page');"
   ]
  },
  {
   "cell_type": "code",
   "execution_count": 18,
   "id": "860a3959",
   "metadata": {},
   "outputs": [
    {
     "data": {
      "text/plain": [
       "2"
      ]
     },
     "execution_count": 18,
     "metadata": {},
     "output_type": "execute_result"
    }
   ],
   "source": [
    "df['converted'].nunique()"
   ]
  },
  {
   "cell_type": "code",
   "execution_count": 19,
   "id": "6cb640a6",
   "metadata": {},
   "outputs": [
    {
     "data": {
      "text/plain": [
       "yes    54\n",
       "no     46\n",
       "Name: converted, dtype: int64"
      ]
     },
     "execution_count": 19,
     "metadata": {},
     "output_type": "execute_result"
    }
   ],
   "source": [
    "df['converted'].value_counts()"
   ]
  },
  {
   "cell_type": "code",
   "execution_count": 20,
   "id": "2282fbfb",
   "metadata": {},
   "outputs": [
    {
     "data": {
      "image/png": "[encoded data removed]",
      "text/plain": [
       "<Figure size 432x288 with 1 Axes>"
      ]
     },
     "metadata": {
      "needs_background": "light"
     },
     "output_type": "display_data"
    }
   ],
   "source": [
    "sns.countplot(data=df, x='converted');"
   ]
  },
  {
   "cell_type": "code",
   "execution_count": 21,
   "id": "f01c9d3e",
   "metadata": {},
   "outputs": [
    {
     "data": {
      "text/plain": [
       "3"
      ]
     },
     "execution_count": 21,
     "metadata": {},
     "output_type": "execute_result"
    }
   ],
   "source": [
    "df['language_preferred'].nunique()"
   ]
  },
  {
   "cell_type": "code",
   "execution_count": 22,
   "id": "2df8db2c",
   "metadata": {},
   "outputs": [
    {
     "data": {
      "text/plain": [
       "Spanish    34\n",
       "French     34\n",
       "English    32\n",
       "Name: language_preferred, dtype: int64"
      ]
     },
     "execution_count": 22,
     "metadata": {},
     "output_type": "execute_result"
    }
   ],
   "source": [
    "df['language_preferred'].value_counts()"
   ]
  },
  {
   "cell_type": "code",
   "execution_count": 23,
   "id": "e2950f50",
   "metadata": {},
   "outputs": [
    {
     "data": {
      "image/png": "[encoded data removed]",
      "text/plain": [
       "<Figure size 432x288 with 1 Axes>"
      ]
     },
     "metadata": {
      "needs_background": "light"
     },
     "output_type": "display_data"
    }
   ],
   "source": [
    "sns.countplot(data=df, x='language_preferred');"
   ]
  },
  {
   "cell_type": "markdown",
   "id": "05da32fd",
   "metadata": {},
   "source": [
    "### Observation\n",
    "The Users are divided into 2 equal groups, \"Control\" and \"Treatment\". Each group being 50 each.\n",
    "\n",
    "There are two landing pages, \"old\" and \"new\" attached to the \"control\" and \"Treatment\" groups respectively.\n",
    "\n",
    "The conversion rate graph shows that over half of the users (54) subscribed to the services after visiting either of the two landing pages.\n",
    "\n",
    "The preferred language graph shows that there is almost no difference in the language of engagement amongst the 100 users sampled, with French and spanish having a slight edge with 34 users each and English with 32 users."
   ]
  },
  {
   "cell_type": "markdown",
   "id": "fad2de2f",
   "metadata": {
    "id": "fad2de2f"
   },
   "source": [
    "### Bivariate Analysis"
   ]
  },
  {
   "cell_type": "code",
   "execution_count": 24,
   "id": "7bdac621",
   "metadata": {},
   "outputs": [
    {
     "data": {
      "image/png": "[encoded data removed]",
      "text/plain": [
       "<Figure size 432x288 with 1 Axes>"
      ]
     },
     "metadata": {
      "needs_background": "light"
     },
     "output_type": "display_data"
    }
   ],
   "source": [
    "sns.boxplot(data=df, x = 'time_spent_on_the_page', y = 'landing_page');\n",
    "plt.show()"
   ]
  },
  {
   "cell_type": "code",
   "execution_count": 25,
   "id": "2978ef36",
   "metadata": {},
   "outputs": [
    {
     "data": {
      "image/png": "[encoded data removed]",
      "text/plain": [
       "<Figure size 432x288 with 1 Axes>"
      ]
     },
     "metadata": {
      "needs_background": "light"
     },
     "output_type": "display_data"
    }
   ],
   "source": [
    "sns.boxplot(data=df, x = 'time_spent_on_the_page', y = 'converted');\n",
    "plt.show()"
   ]
  },
  {
   "cell_type": "code",
   "execution_count": 26,
   "id": "50c96d39",
   "metadata": {},
   "outputs": [
    {
     "data": {
      "image/png": "[encoded data removed]",
      "text/plain": [
       "<Figure size 432x288 with 1 Axes>"
      ]
     },
     "metadata": {
      "needs_background": "light"
     },
     "output_type": "display_data"
    }
   ],
   "source": [
    "sns.boxplot(data=df, x = 'time_spent_on_the_page', y = 'language_preferred');\n",
    "plt.show()"
   ]
  },
  {
   "cell_type": "code",
   "execution_count": 27,
   "id": "94a29fb9",
   "metadata": {},
   "outputs": [
    {
     "data": {
      "image/png": "[encoded data removed]",
      "text/plain": [
       "<Figure size 432x288 with 1 Axes>"
      ]
     },
     "metadata": {
      "needs_background": "light"
     },
     "output_type": "display_data"
    }
   ],
   "source": [
    "sns.countplot(data=df, x='landing_page', hue=\"converted\");"
   ]
  },
  {
   "cell_type": "code",
   "execution_count": 28,
   "id": "7b43b981",
   "metadata": {},
   "outputs": [
    {
     "data": {
      "image/png": "[encoded data removed]",
      "text/plain": [
       "<Figure size 432x288 with 1 Axes>"
      ]
     },
     "metadata": {
      "needs_background": "light"
     },
     "output_type": "display_data"
    }
   ],
   "source": [
    "sns.countplot(data=df, x='language_preferred', hue=\"converted\");"
   ]
  },
  {
   "cell_type": "markdown",
   "id": "2ea78b55",
   "metadata": {},
   "source": [
    "### Observation\n",
    "On the average, users spend more time on the new landing page than on the old.\n",
    "\n",
    "Users who get converted and then go ahead to subscribe to the services of E-news tend to spend more time on either of the two landing pages.\n",
    "\n",
    "Average time spent on either of the two pages is similar for the different languages of engagement\n",
    "\n",
    "More users gets converted on visiting the new landing page than those visiting the old.\n",
    "\n",
    "A greater percentage of English language users gets converted than the other langusges of engagement."
   ]
  },
  {
   "cell_type": "markdown",
   "id": "27906576",
   "metadata": {
    "id": "27906576"
   },
   "source": [
    "## 1. Do the users spend more time on the new landing page than the existing landing page?"
   ]
  },
  {
   "cell_type": "markdown",
   "id": "e5fdf0c8",
   "metadata": {
    "id": "e5fdf0c8"
   },
   "source": [
    "### Visual Analysis"
   ]
  },
  {
   "cell_type": "code",
   "execution_count": 29,
   "id": "6eZJa41eg21n",
   "metadata": {
    "id": "6eZJa41eg21n"
   },
   "outputs": [],
   "source": [
    "# Create a new dataframe for users utilizing the \"new\" landing page - df_new_lp\n",
    "df_new_lp = df[df['landing_page'] == 'new']"
   ]
  },
  {
   "cell_type": "code",
   "execution_count": 30,
   "id": "d51189db",
   "metadata": {},
   "outputs": [],
   "source": [
    "# Create a new dataframe for users utilizing the \"old\" landing page - df_old_lp\n",
    "df_old_lp = df[df['landing_page'] == 'old']"
   ]
  },
  {
   "cell_type": "code",
   "execution_count": 31,
   "id": "b634ff98",
   "metadata": {},
   "outputs": [
    {
     "name": "stdout",
     "output_type": "stream",
     "text": [
      "Average time spent on the new langing page is 6.22 minutes, and total time is 311.16 minutes\n",
      "Average time spent on the old langing page is 4.53 minutes, and total time is 226.62000000000003 minutes\n"
     ]
    }
   ],
   "source": [
    "# Total amount of time spent by all users on the new landing page\n",
    "tt_new_lp = df_new_lp.time_spent_on_the_page.sum()\n",
    "# Average time spent by users on the new landing page\n",
    "ave_t_new_lp = df_new_lp.time_spent_on_the_page.mean()\n",
    "\n",
    "# Total amount of time spent by all users on the old landing page\n",
    "tt_old_lp = df_old_lp.time_spent_on_the_page.sum()\n",
    "# average time spent by users on the old landing page\n",
    "ave_t_old_lp = df_old_lp.time_spent_on_the_page.mean()\n",
    "\n",
    "print(\"Average time spent on the new langing page is\", round(ave_t_new_lp,2), \"minutes, and total time is\", tt_new_lp, \"minutes\")\n",
    "print(\"Average time spent on the old langing page is\", round(ave_t_old_lp,2), \"minutes, and total time is\", tt_old_lp, \"minutes\")"
   ]
  },
  {
   "cell_type": "code",
   "execution_count": 32,
   "id": "6d95aa26",
   "metadata": {},
   "outputs": [
    {
     "data": {
      "image/png": "[encoded data removed]",
      "text/plain": [
       "<Figure size 432x288 with 1 Axes>"
      ]
     },
     "metadata": {
      "needs_background": "light"
     },
     "output_type": "display_data"
    }
   ],
   "source": [
    "sns.barplot(data=df, x= 'landing_page', y='time_spent_on_the_page');\n",
    "plt.show()"
   ]
  },
  {
   "cell_type": "code",
   "execution_count": 33,
   "id": "92ba8ef2",
   "metadata": {},
   "outputs": [
    {
     "data": {
      "image/png": "[encoded data removed]",
      "text/plain": [
       "<Figure size 432x288 with 1 Axes>"
      ]
     },
     "metadata": {
      "needs_background": "light"
     },
     "output_type": "display_data"
    }
   ],
   "source": [
    "sns.boxplot(data=df, x = \"time_spent_on_the_page\", y = \"landing_page\");"
   ]
  },
  {
   "cell_type": "markdown",
   "id": "56b3dafd",
   "metadata": {
    "id": "56b3dafd"
   },
   "source": [
    "### Step 1: Define the null and alternate hypotheses"
   ]
  },
  {
   "cell_type": "markdown",
   "id": "680ecaa6",
   "metadata": {
    "id": "d2ac77ef"
   },
   "source": [
    "We will test the Null hypothesis\n",
    ">$H_0: \\mu_1 = \\mu_2 $  The users spend an equal amount of time on both landing pages.\n",
    "\n",
    "Against the alternate hypothesis\n",
    ">$H_a: \\mu_1 > \\mu_2 $  The users spend more time on the new landing page.\n"
   ]
  },
  {
   "cell_type": "markdown",
   "id": "c7ee4907",
   "metadata": {
    "id": "c7ee4907"
   },
   "source": [
    "### Step 2: Select Appropriate test"
   ]
  },
  {
   "cell_type": "code",
   "execution_count": 34,
   "id": "51c9d198",
   "metadata": {},
   "outputs": [
    {
     "name": "stdout",
     "output_type": "stream",
     "text": [
      "Standard deviation of time spent on new landing page is 1.82\n",
      "Standard deviation of time spent on old landing page is 2.58\n"
     ]
    }
   ],
   "source": [
    "sd_new_lp = df_new_lp.time_spent_on_the_page.std()\n",
    "sd_old_lp = df_old_lp.time_spent_on_the_page.std()\n",
    "print('Standard deviation of time spent on new landing page is', round(sd_new_lp,2))\n",
    "print('Standard deviation of time spent on old landing page is', round(sd_old_lp,2))"
   ]
  },
  {
   "cell_type": "markdown",
   "id": "2c183cd7",
   "metadata": {
    "id": "2c183cd7"
   },
   "source": [
    "Since we have two independent samples and we dont know the standard deviation ($\\sigma$) of the population from which these samples are drawn, we can safely infer that these $\\sigma$s are unequal since the calculated $\\sigma$ of the drawn samples are unequal. We shall therefor proceed to use the: \n",
    "\n",
    "## \"T-test for equality of means\"\n",
    "\n",
    "### The T-test assumptions are satisfied since\n",
    "\n",
    "1. Continuous data? - Yes, time spent on the landing pages are measured on a continuos scale.\n",
    "2. We have a normally distributed population. The sample plotted in the histogram in the univariate analysis follows a uniform distribution.\n",
    "3. The sample standard deviations are unequal, therefore we can infer that the population standard deviations will be unequal\n",
    "4. The samples were randomly drawn from the population."
   ]
  },
  {
   "cell_type": "markdown",
   "id": "3f58c9a7",
   "metadata": {
    "id": "3f58c9a7"
   },
   "source": [
    "### Step 3: Decide the significance level"
   ]
  },
  {
   "cell_type": "markdown",
   "id": "92d7d7ee",
   "metadata": {
    "id": "92d7d7ee"
   },
   "source": [
    "We shall proceed to set our level of significance $\\alpha$ at 5%\n",
    "\n",
    "that is $\\alpha$ = 0.05"
   ]
  },
  {
   "cell_type": "markdown",
   "id": "5fed2eac",
   "metadata": {
    "id": "5fed2eac"
   },
   "source": [
    "### Step 4: Collect and prepare data"
   ]
  },
  {
   "cell_type": "code",
   "execution_count": 35,
   "id": "f5a59495",
   "metadata": {
    "id": "f5a59495"
   },
   "outputs": [],
   "source": [
    "#filter out the time spent on the old and new landing pages from their respective data frames\n",
    "time_on_new_lp = df_new_lp.time_spent_on_the_page\n",
    "time_on_old_lp = df_old_lp.time_spent_on_the_page\n",
    "alpha = 0.05"
   ]
  },
  {
   "cell_type": "markdown",
   "id": "f5c5258d",
   "metadata": {
    "id": "f5c5258d"
   },
   "source": [
    "### Step 5: Calculate the p-value"
   ]
  },
  {
   "cell_type": "code",
   "execution_count": 36,
   "id": "fac8594a",
   "metadata": {
    "id": "fac8594a"
   },
   "outputs": [
    {
     "name": "stdout",
     "output_type": "stream",
     "text": [
      "The p-value is  0.0001392381225166549\n"
     ]
    }
   ],
   "source": [
    "test_stat, p_value = stats.ttest_ind(time_on_new_lp, time_on_old_lp, equal_var = False, alternative = 'greater')\n",
    "print('The p-value is ', p_value)"
   ]
  },
  {
   "cell_type": "markdown",
   "id": "359b12f8",
   "metadata": {
    "id": "359b12f8"
   },
   "source": [
    "### Step 6: Compare the p-value with $\\alpha$"
   ]
  },
  {
   "cell_type": "code",
   "execution_count": 37,
   "id": "7be47289",
   "metadata": {
    "id": "7be47289"
   },
   "outputs": [
    {
     "name": "stdout",
     "output_type": "stream",
     "text": [
      "As the p-value  0.00014 is less than  0.05 the level of significance, we reject the null hypothesis.\n"
     ]
    }
   ],
   "source": [
    "# print the conclusion based on p-value\n",
    "if p_value < alpha:\n",
    "    print(\"As the p-value \", round(p_value,5), \"is less than \", alpha, \"the level of significance, we reject the null hypothesis.\")\n",
    "else:\n",
    "    print(\"As the p-value \", round(p_value,5), \"is greater than \", alpha, \"the level of significance, we fail to reject the null hypothesis.\")\n"
   ]
  },
  {
   "cell_type": "markdown",
   "id": "d9affc84",
   "metadata": {
    "id": "d9affc84"
   },
   "source": [
    "### Step 7:  Draw inference"
   ]
  },
  {
   "cell_type": "markdown",
   "id": "6b16dd4b",
   "metadata": {
    "id": "6b16dd4b"
   },
   "source": [
    "Since the p-value is less than the level of significance, we reject the null hypothesis. Hence, we have enough statistical evidence to say that users spend more time on the new langing page than on the old landing page."
   ]
  },
  {
   "cell_type": "markdown",
   "id": "353e9d24",
   "metadata": {
    "id": "353e9d24"
   },
   "source": [
    "## 2. Is the conversion rate (the proportion of users who visit the landing page and get converted) for the new page greater than the conversion rate for the old page?"
   ]
  },
  {
   "cell_type": "markdown",
   "id": "890496fb",
   "metadata": {},
   "source": [
    "### Visual analysis"
   ]
  },
  {
   "cell_type": "code",
   "execution_count": 38,
   "id": "548c77ef",
   "metadata": {},
   "outputs": [
    {
     "data": {
      "image/png": "[encoded data removed]",
      "text/plain": [
       "<Figure size 432x288 with 1 Axes>"
      ]
     },
     "metadata": {
      "needs_background": "light"
     },
     "output_type": "display_data"
    }
   ],
   "source": [
    "sns.countplot(data=df, x='landing_page', hue=\"converted\");"
   ]
  },
  {
   "cell_type": "code",
   "execution_count": 39,
   "id": "8598c7be",
   "metadata": {},
   "outputs": [
    {
     "data": {
      "text/plain": [
       "yes    33\n",
       "no     17\n",
       "Name: converted, dtype: int64"
      ]
     },
     "execution_count": 39,
     "metadata": {},
     "output_type": "execute_result"
    }
   ],
   "source": [
    "df_new_lp.converted.value_counts()"
   ]
  },
  {
   "cell_type": "code",
   "execution_count": 40,
   "id": "d00429d8",
   "metadata": {},
   "outputs": [
    {
     "data": {
      "text/plain": [
       "no     29\n",
       "yes    21\n",
       "Name: converted, dtype: int64"
      ]
     },
     "execution_count": 40,
     "metadata": {},
     "output_type": "execute_result"
    }
   ],
   "source": [
    "df_old_lp.converted.value_counts()"
   ]
  },
  {
   "cell_type": "markdown",
   "id": "4be9b626",
   "metadata": {
    "id": "b7f52898"
   },
   "source": [
    "### Step 1: Define the null and alternate hypotheses"
   ]
  },
  {
   "cell_type": "markdown",
   "id": "b4523e6d",
   "metadata": {},
   "source": [
    "We will test the Null hypothesis\n",
    ">$H_0: P_1 = P_2 $  The proportion of users who gets converted is the same on visiting either the new or the old landing page.\n",
    "\n",
    "against the alternate hypothesis\n",
    ">$H_a: P_1 > P_2 $  The proportion of users who gets converted on visiting the new landing page is greater than those who gets converted on visiting the old landing page."
   ]
  },
  {
   "cell_type": "markdown",
   "id": "c354592b",
   "metadata": {},
   "source": [
    "### Step 2: Select Appropriate test"
   ]
  },
  {
   "cell_type": "markdown",
   "id": "9f3e9402",
   "metadata": {},
   "source": [
    "Since the requirement is to compare the sample proportions from two populations, we shall use the: \n",
    "### Two Proportion Z-test\n",
    "\n",
    "#### The Z-test assumptions are satisfied since:\n",
    "\n",
    "1. Binomally distributed population - A user can only utilize either the new landing page or the old landing page.\n",
    "2. The samples were randomly drawn from the population.\n",
    "3. We need to check whether np and n(1-p) are greater than or equal to 10. Where n is our sample size, 50 in this case, and p is our sample proportion.\n",
    "\n",
    "From Step1 above, we can see that:\n",
    "\n",
    "33 out of 50 of the users visiting the new landing page are converted, 17 are not converted\n",
    "\n",
    "21 out of 50 of the users visiting the old landing page are converted, 29 are not converted\n",
    "\n",
    "For the new landing page:\n",
    ">$np_1 = 50\\times\\frac{33}{50} =33 \\geq 10\\\\\n",
    "n(1-p_1) = 50 \\times\\frac{(50-33)}{50} =17 \\geq 10$\n",
    "\n",
    "And for the old landing page:\n",
    ">$np_2 = 50\\times\\frac{21}{50} =21 \\geq 10\\\\\n",
    "n(1-p_2) = 50 \\times\\frac{(50-21)}{50} =29 \\geq 10 $\n"
   ]
  },
  {
   "cell_type": "markdown",
   "id": "edee06bb",
   "metadata": {},
   "source": [
    "### Step 3: Decide the significance level"
   ]
  },
  {
   "cell_type": "markdown",
   "id": "feedd8cf",
   "metadata": {},
   "source": [
    "We shall proceed to set our level of significance $\\alpha$ at 5%\n",
    "\n",
    "that is $\\alpha$ = 0.05"
   ]
  },
  {
   "cell_type": "markdown",
   "id": "9f49477d",
   "metadata": {},
   "source": [
    "### Step 4: Collect and prepare data"
   ]
  },
  {
   "cell_type": "code",
   "execution_count": 41,
   "id": "a470cd99",
   "metadata": {},
   "outputs": [],
   "source": [
    "# set up an array containing the conversion count for both landing pages\n",
    "conversion_count = np.array([33, 21])\n",
    "\n",
    "# set up an array containg the sample sizes for both landing pages\n",
    "sample_size = np.array([50, 50])\n",
    "\n",
    "alpha = 0.05"
   ]
  },
  {
   "cell_type": "markdown",
   "id": "fa3c825a",
   "metadata": {},
   "source": [
    "### Step 5: Calculate the p-value"
   ]
  },
  {
   "cell_type": "code",
   "execution_count": 42,
   "id": "b9f75e40",
   "metadata": {},
   "outputs": [
    {
     "name": "stdout",
     "output_type": "stream",
     "text": [
      "The p-value is  0.016052616408112556\n"
     ]
    }
   ],
   "source": [
    "# calculate the p-value\n",
    "test_stat, p_value = proportions_ztest(conversion_count, sample_size)\n",
    "print(\"The p-value is \", p_value)"
   ]
  },
  {
   "cell_type": "markdown",
   "id": "ec449f22",
   "metadata": {},
   "source": [
    "### Step 6: Compare the p-value with 𝛼\n"
   ]
  },
  {
   "cell_type": "code",
   "execution_count": 43,
   "id": "5a15db99",
   "metadata": {},
   "outputs": [
    {
     "name": "stdout",
     "output_type": "stream",
     "text": [
      "As the p-value  0.016 is less than  0.05 the level of significance, we reject the null hypothesis.\n"
     ]
    }
   ],
   "source": [
    "# print the conclusion based on p-value\n",
    "if p_value < alpha:\n",
    "    print(\"As the p-value \", round(p_value,3), \"is less than \", alpha, \"the level of significance, we reject the null hypothesis.\")\n",
    "else:\n",
    "    print(\"As the p-value \", round(p_value,3), \"is greater than \", alpha, \"the level of significance, we fail to reject the null hypothesis.\")\n"
   ]
  },
  {
   "cell_type": "markdown",
   "id": "288bd63c",
   "metadata": {},
   "source": [
    "### Step 7: Draw inference"
   ]
  },
  {
   "cell_type": "markdown",
   "id": "7f1e4c4d",
   "metadata": {},
   "source": [
    "Since the p-value is less than the level of significance, we reject the null hypothesis. We have enough statistical evidence to say that the conversion rate (the proportion of users who visit the landing page and get converted) for the new landing page is greater than the conversion rate for the old landing page."
   ]
  },
  {
   "cell_type": "markdown",
   "id": "d49bfa2d",
   "metadata": {
    "id": "d49bfa2d"
   },
   "source": [
    "## 3. Is the conversion and preferred language are independent or related?"
   ]
  },
  {
   "cell_type": "markdown",
   "id": "32e9b051",
   "metadata": {},
   "source": [
    "### Visual Analysis"
   ]
  },
  {
   "cell_type": "code",
   "execution_count": 44,
   "id": "6a488a1e",
   "metadata": {},
   "outputs": [
    {
     "data": {
      "image/png": "[encoded data removed]",
      "text/plain": [
       "<Figure size 432x288 with 1 Axes>"
      ]
     },
     "metadata": {
      "needs_background": "light"
     },
     "output_type": "display_data"
    }
   ],
   "source": [
    "sns.countplot(data=df, x='language_preferred', hue=\"converted\");"
   ]
  },
  {
   "cell_type": "markdown",
   "id": "65a661be",
   "metadata": {
    "id": "b0e63f17"
   },
   "source": [
    "### Step 1: Define the null and alternate hypotheses"
   ]
  },
  {
   "cell_type": "markdown",
   "id": "abd3900a",
   "metadata": {},
   "source": [
    "We will test the null hypothesis\n",
    "\n",
    ">$H_0:$ Conversion is independent of preferred language of engagement.\n",
    "\n",
    "against the alternate hypothesis\n",
    "\n",
    ">$H_a:$ Conversion is dependent on preferred language of engagement.\n"
   ]
  },
  {
   "cell_type": "markdown",
   "id": "68696d52",
   "metadata": {},
   "source": [
    "### Step 2: Select Appropriate test"
   ]
  },
  {
   "cell_type": "markdown",
   "id": "bf7705fa",
   "metadata": {},
   "source": [
    "Because we need to do a check to see if two categorical variables from a population are independent, we shall use the:\n",
    "### Chi-square Test of Independence\n",
    "\n",
    "#### The Chi-square Test  assumptions are satisfied since:\n",
    "\n",
    "1. We are dealing with two categorical variables.\n",
    "2. The number of sample observations in each level of the variable is greater than 5.\n",
    "3. The samples were randomly drawn from the population.\n"
   ]
  },
  {
   "cell_type": "markdown",
   "id": "43dd8877",
   "metadata": {},
   "source": [
    "### Step 3: Decide the significance level"
   ]
  },
  {
   "cell_type": "markdown",
   "id": "4d13aa51",
   "metadata": {},
   "source": [
    "We shall proceed to set our level of significance $\\alpha$ at 5%\n",
    "\n",
    "that is $\\alpha$ = 0.05"
   ]
  },
  {
   "cell_type": "markdown",
   "id": "9d7f2368",
   "metadata": {},
   "source": [
    "### Step 4: Collect and prepare data"
   ]
  },
  {
   "cell_type": "code",
   "execution_count": 45,
   "id": "b879873a",
   "metadata": {},
   "outputs": [
    {
     "data": {
      "text/html": [
       "<div>\n",
       "<style scoped>\n",
       "    .dataframe tbody tr th:only-of-type {\n",
       "        vertical-align: middle;\n",
       "    }\n",
       "\n",
       "    .dataframe tbody tr th {\n",
       "        vertical-align: top;\n",
       "    }\n",
       "\n",
       "    .dataframe thead th {\n",
       "        text-align: right;\n",
       "    }\n",
       "</style>\n",
       "<table border=\"1\" class=\"dataframe\">\n",
       "  <thead>\n",
       "    <tr style=\"text-align: right;\">\n",
       "      <th>converted</th>\n",
       "      <th>no</th>\n",
       "      <th>yes</th>\n",
       "    </tr>\n",
       "    <tr>\n",
       "      <th>language_preferred</th>\n",
       "      <th></th>\n",
       "      <th></th>\n",
       "    </tr>\n",
       "  </thead>\n",
       "  <tbody>\n",
       "    <tr>\n",
       "      <th>English</th>\n",
       "      <td>11</td>\n",
       "      <td>21</td>\n",
       "    </tr>\n",
       "    <tr>\n",
       "      <th>French</th>\n",
       "      <td>19</td>\n",
       "      <td>15</td>\n",
       "    </tr>\n",
       "    <tr>\n",
       "      <th>Spanish</th>\n",
       "      <td>16</td>\n",
       "      <td>18</td>\n",
       "    </tr>\n",
       "  </tbody>\n",
       "</table>\n",
       "</div>"
      ],
      "text/plain": [
       "converted           no  yes\n",
       "language_preferred         \n",
       "English             11   21\n",
       "French              19   15\n",
       "Spanish             16   18"
      ]
     },
     "execution_count": 45,
     "metadata": {},
     "output_type": "execute_result"
    }
   ],
   "source": [
    "# prepare a contingency table to perform the test\n",
    "contingency_table = pd.crosstab(df.language_preferred, df.converted)\n",
    "contingency_table"
   ]
  },
  {
   "cell_type": "markdown",
   "id": "e017c6e3",
   "metadata": {},
   "source": [
    "### Step 5: Calculate the p-value"
   ]
  },
  {
   "cell_type": "code",
   "execution_count": 46,
   "id": "be6cd35e",
   "metadata": {},
   "outputs": [
    {
     "name": "stdout",
     "output_type": "stream",
     "text": [
      "The p-value is 0.2129888748754345\n"
     ]
    }
   ],
   "source": [
    "# find the p-value\n",
    "chi, p_value, dof, expected = stats.chi2_contingency(contingency_table)\n",
    "print('The p-value is', p_value)"
   ]
  },
  {
   "cell_type": "markdown",
   "id": "feb86429",
   "metadata": {},
   "source": [
    "### Step 6: Compare the p-value with 𝛼"
   ]
  },
  {
   "cell_type": "code",
   "execution_count": 47,
   "id": "985959d6",
   "metadata": {},
   "outputs": [
    {
     "name": "stdout",
     "output_type": "stream",
     "text": [
      "As the p-value  0.213 is greater than  0.05 the level of significance, we fail to reject the null hypothesis.\n"
     ]
    }
   ],
   "source": [
    "# print the conclusion based on p-value\n",
    "if p_value < alpha:\n",
    "    print(\"As the p-value \", round(p_value,3), \"is less than \", alpha, \"the level of significance, we reject the null hypothesis.\")\n",
    "else:\n",
    "    print(\"As the p-value \", round(p_value,3), \"is greater than \", alpha, \"the level of significance, we fail to reject the null hypothesis.\")\n"
   ]
  },
  {
   "cell_type": "markdown",
   "id": "0155f457",
   "metadata": {},
   "source": [
    "### Step 7: Draw inference"
   ]
  },
  {
   "cell_type": "markdown",
   "id": "92b2f9c1",
   "metadata": {},
   "source": [
    "Since the p-value is greater than the level of significance, we fail to reject the null hypothesis. We have enough statistical evidence to say that conversion and preferred language are independent of each other."
   ]
  },
  {
   "cell_type": "markdown",
   "id": "8d585a90",
   "metadata": {
    "id": "8d585a90"
   },
   "source": [
    "## 4. Is the time spent on the new page same for the different language users?"
   ]
  },
  {
   "cell_type": "markdown",
   "id": "7262a9f4",
   "metadata": {},
   "source": [
    "### Visual analysis"
   ]
  },
  {
   "cell_type": "code",
   "execution_count": 48,
   "id": "40f6a205",
   "metadata": {},
   "outputs": [
    {
     "data": {
      "image/png": "[encoded data removed]",
      "text/plain": [
       "<Figure size 432x288 with 1 Axes>"
      ]
     },
     "metadata": {
      "needs_background": "light"
     },
     "output_type": "display_data"
    }
   ],
   "source": [
    "sns.barplot(data=df_new_lp, x = \"language_preferred\", y = \"time_spent_on_the_page\");"
   ]
  },
  {
   "cell_type": "code",
   "execution_count": 49,
   "id": "92066126",
   "metadata": {},
   "outputs": [
    {
     "data": {
      "image/png": "[encoded data removed]",
      "text/plain": [
       "<Figure size 432x288 with 1 Axes>"
      ]
     },
     "metadata": {
      "needs_background": "light"
     },
     "output_type": "display_data"
    }
   ],
   "source": [
    "sns.boxplot(data=df_new_lp, x = \"language_preferred\", y = \"time_spent_on_the_page\");"
   ]
  },
  {
   "cell_type": "code",
   "execution_count": 50,
   "id": "084ee311",
   "metadata": {},
   "outputs": [],
   "source": [
    "# Create separate dataframes for the different language of engagement on the new landing page.\n",
    "# French users\n",
    "df_new_lpfr = df_new_lp[df_new_lp[\"language_preferred\"]==\"French\"]\n",
    "# Spanish users\n",
    "df_new_lpsp = df_new_lp[df_new_lp[\"language_preferred\"]==\"Spanish\"]\n",
    "# English users\n",
    "df_new_lpen = df_new_lp[df_new_lp[\"language_preferred\"]==\"English\"]"
   ]
  },
  {
   "cell_type": "code",
   "execution_count": 51,
   "id": "21dcf161",
   "metadata": {},
   "outputs": [
    {
     "name": "stdout",
     "output_type": "stream",
     "text": [
      "Time spent on New Landing page by French Users are:\n",
      "Total time spent:  105.34\n",
      "Average time spent:  6.2\n",
      "Variance:  3.74\n",
      "Time spent on New Landing page by Spanish Users are:\n",
      "Total time spent:  99.2\n",
      "Average time spent:  5.84\n",
      "Variance:  2.33\n",
      "Time spent on New Landing page by English Users are:\n",
      "Total time spent:  106.62\n",
      "Average time spent:  6.66\n",
      "Variance:  3.94\n"
     ]
    }
   ],
   "source": [
    "# Time spent on landing page by French users\n",
    "tt_fr = df_new_lpfr['time_spent_on_the_page'].sum()\n",
    "mt_fr = df_new_lpfr['time_spent_on_the_page'].mean()\n",
    "var_fr = df_new_lpfr['time_spent_on_the_page'].var()\n",
    "\n",
    "# Time spent on landing page by Spanish users\n",
    "tt_sp = df_new_lpsp['time_spent_on_the_page'].sum()\n",
    "mt_sp = df_new_lpsp['time_spent_on_the_page'].mean()\n",
    "var_sp = df_new_lpsp['time_spent_on_the_page'].var()\n",
    "\n",
    "# Time spent on landing page by English users\n",
    "tt_en = df_new_lpen['time_spent_on_the_page'].sum()\n",
    "mt_en = df_new_lpen['time_spent_on_the_page'].mean()\n",
    "var_en = df_new_lpen['time_spent_on_the_page'].var()\n",
    "\n",
    "print(\"Time spent on New Landing page by French Users are:\")\n",
    "print(\"Total time spent: \", tt_fr)\n",
    "print(\"Average time spent: \", round(mt_fr,2))\n",
    "print(\"Variance: \", round(var_fr,2))\n",
    "\n",
    "print(\"Time spent on New Landing page by Spanish Users are:\")\n",
    "print(\"Total time spent: \", tt_sp)\n",
    "print(\"Average time spent: \", round(mt_sp,2))\n",
    "print(\"Variance: \", round(var_sp,2))\n",
    "\n",
    "print(\"Time spent on New Landing page by English Users are:\")\n",
    "print(\"Total time spent: \", tt_en)\n",
    "print(\"Average time spent: \", round(mt_en,2))\n",
    "print(\"Variance: \", round(var_en,2))"
   ]
  },
  {
   "cell_type": "markdown",
   "id": "6912aed0",
   "metadata": {
    "id": "b422f395"
   },
   "source": [
    "### Step 1: Define the null and alternate hypotheses"
   ]
  },
  {
   "cell_type": "markdown",
   "id": "158786e7",
   "metadata": {},
   "source": [
    "We will test the null hypothesis\n",
    "\n",
    ">$H_0: \\mu_1 = \\mu_2 = \\mu_3 $  The time spent on the new landing page is the same for the different language users\n",
    "\n",
    "against the alternate hypothesis\n",
    "\n",
    ">$H_a: \\mu_1 \\neq \\mu_2$ or $\\mu_1 \\neq \\mu_3$ or $\\mu_2 \\neq \\mu_3 $  The time spent on the new landing page is not the same for at least one of the different language users"
   ]
  },
  {
   "cell_type": "markdown",
   "id": "e391d830",
   "metadata": {},
   "source": [
    "### Step 2: Select Appropriate test"
   ]
  },
  {
   "cell_type": "markdown",
   "id": "a7a30ab3",
   "metadata": {},
   "source": [
    "Since we are required to compare the sample means from 3 independent populations, we shall use the:\n",
    "\n",
    "### One-way ANOVA Test \n",
    "\n",
    "To ensure the reliability of our ANOVA test, we first make sure that the assumptions of normality and equality of variances are satisfied.\n",
    "\n",
    "For the test of normality, Shapiro-Wilk’s test will be applied to the response variable.\n",
    "\n",
    "For the test of equality of variance, Levene test will be applied to the response variable.\n",
    "\n",
    "The response variable being \"time_spent_on_the_page\"\n",
    "\n",
    "We shall use a level of significance value $\\alpha\\$ = 0.05 for both tests"
   ]
  },
  {
   "cell_type": "markdown",
   "id": "0af51c86",
   "metadata": {},
   "source": [
    "**Shapiro-Wilk’s test**\n",
    "\n",
    "We will test the null hypothesis\n",
    "\n",
    ">$H_0:$ The \"time_spent_on_the_page\" follow a normal distribution\n",
    "\n",
    "against the alternative hypothesis\n",
    "\n",
    ">$H_a:$ The \"time_spent_on_the_page\" do not not follow a normal distribution"
   ]
  },
  {
   "cell_type": "code",
   "execution_count": 52,
   "id": "5aa86a47",
   "metadata": {},
   "outputs": [
    {
     "name": "stdout",
     "output_type": "stream",
     "text": [
      "The p-value is 0.8040016293525696\n"
     ]
    }
   ],
   "source": [
    "# Test of Normality Shapiro-Wilk’s test \n",
    "\n",
    "# We calculate our p-value from:\n",
    "w, p_value = stats.shapiro(df_new_lp['time_spent_on_the_page']) \n",
    "print('The p-value is', p_value)"
   ]
  },
  {
   "cell_type": "code",
   "execution_count": 53,
   "id": "fa251027",
   "metadata": {},
   "outputs": [
    {
     "name": "stdout",
     "output_type": "stream",
     "text": [
      "As the p-value  0.804 is greater than  0.05 the level of significance, we fail to reject the null hypothesis.\n"
     ]
    }
   ],
   "source": [
    "# print the conclusion based on p-value\n",
    "if p_value < alpha:\n",
    "    print(\"As the p-value \", round(p_value,3), \"is less than \", alpha, \"the level of significance, we reject the null hypothesis.\")\n",
    "else:\n",
    "    print(\"As the p-value \", round(p_value,3), \"is greater than \", alpha, \"the level of significance, we fail to reject the null hypothesis.\")\n"
   ]
  },
  {
   "cell_type": "markdown",
   "id": "8c0dec68",
   "metadata": {},
   "source": [
    "**Conclusion**\n",
    "\n",
    "As the p-value is greater than the level of significance, we have enough statistical evidence to conclude that time spent on the new landing page follows a normal distribution."
   ]
  },
  {
   "cell_type": "markdown",
   "id": "b013e0a6",
   "metadata": {},
   "source": [
    "**Levene’s test**\n",
    "\n",
    "We will test the null hypothesis\n",
    "\n",
    ">$H_0$: All the population variances are equal\n",
    "\n",
    "against the alternative hypothesis\n",
    "\n",
    ">$H_a$: At least one variance is different from the rest"
   ]
  },
  {
   "cell_type": "code",
   "execution_count": 54,
   "id": "13365137",
   "metadata": {},
   "outputs": [
    {
     "name": "stdout",
     "output_type": "stream",
     "text": [
      "The p-value is 0.467\n"
     ]
    }
   ],
   "source": [
    "# Test of equality of variance\n",
    "\n",
    "# find the p_value\n",
    "test_stat, p_value = stats.levene(df_new_lpfr['time_spent_on_the_page'],\n",
    "                            df_new_lpsp['time_spent_on_the_page'],\n",
    "                            df_new_lpen['time_spent_on_the_page'])\n",
    "print('The p-value is', round(p_value,3))"
   ]
  },
  {
   "cell_type": "code",
   "execution_count": 55,
   "id": "c7cad92d",
   "metadata": {},
   "outputs": [
    {
     "name": "stdout",
     "output_type": "stream",
     "text": [
      "As the p-value  0.467 is greater than  0.05 the level of significance, we fail to reject the null hypothesis.\n"
     ]
    }
   ],
   "source": [
    "# print the conclusion based on p-value\n",
    "if p_value < alpha:\n",
    "    print(\"As the p-value \", round(p_value,3), \"is less than \", alpha, \"the level of significance, we reject the null hypothesis.\")\n",
    "else:\n",
    "    print(\"As the p-value \", round(p_value,3), \"is greater than \", alpha, \"the level of significance, we fail to reject the null hypothesis.\")\n"
   ]
  },
  {
   "cell_type": "markdown",
   "id": "0a90e5ae",
   "metadata": {},
   "source": [
    "**Conclusion**\n",
    "\n",
    "As the p-value is greater than the level of significance, we have enough statistical evidence to conclude that all the population variances are equal."
   ]
  },
  {
   "cell_type": "markdown",
   "id": "b930f331",
   "metadata": {},
   "source": [
    "**The One-way Anova test assumptions are satisfied since:**\n",
    "\n",
    "1. The response variable follows a normal distribution - Shapiro-Wilk's test\n",
    "2. All the population variances are equal - Levene's test\n",
    "3. The samples were randomly drawn from the population.\n"
   ]
  },
  {
   "cell_type": "markdown",
   "id": "2d6a01ad",
   "metadata": {},
   "source": [
    "### Step 3: Decide the significance level"
   ]
  },
  {
   "cell_type": "markdown",
   "id": "e9f96e62",
   "metadata": {},
   "source": [
    "We shall proceed to set our level of significance $\\alpha$ at 5%\n",
    "\n",
    "that is $\\alpha$ = 0.05"
   ]
  },
  {
   "cell_type": "markdown",
   "id": "67555749",
   "metadata": {},
   "source": [
    "### Step 4: Collect and prepare data"
   ]
  },
  {
   "cell_type": "markdown",
   "id": "cc035e4f",
   "metadata": {},
   "source": [
    "**See Step 2**"
   ]
  },
  {
   "cell_type": "markdown",
   "id": "ab8e8531",
   "metadata": {},
   "source": [
    "### Step 5: Calculate the p-value"
   ]
  },
  {
   "cell_type": "code",
   "execution_count": 56,
   "id": "6bed403d",
   "metadata": {},
   "outputs": [
    {
     "name": "stdout",
     "output_type": "stream",
     "text": [
      "The p-value is  0.43204138694325955\n"
     ]
    }
   ],
   "source": [
    "# Calculate the p-value using the f_oneway method\n",
    "test_stat, p_value = stats.f_oneway(df_new_lpfr['time_spent_on_the_page'], \n",
    "                              df_new_lpsp['time_spent_on_the_page'], \n",
    "                              df_new_lpen['time_spent_on_the_page'])\n",
    "print('The p-value is ', p_value)"
   ]
  },
  {
   "cell_type": "markdown",
   "id": "46cba386",
   "metadata": {},
   "source": [
    "### Step 6: Compare the p-value with 𝛼"
   ]
  },
  {
   "cell_type": "code",
   "execution_count": 57,
   "id": "60e0cd91",
   "metadata": {},
   "outputs": [
    {
     "name": "stdout",
     "output_type": "stream",
     "text": [
      "As the p-value  0.432 is greater than  0.05 the level of significance, we fail to reject the null hypothesis.\n"
     ]
    }
   ],
   "source": [
    "if p_value < alpha:\n",
    "    print(\"As the p-value \", round(p_value,3), \"is less than \", alpha, \"the level of significance, we reject the null hypothesis.\")\n",
    "else:\n",
    "    print(\"As the p-value \", round(p_value,3), \"is greater than \", alpha, \"the level of significance, we fail to reject the null hypothesis.\")\n"
   ]
  },
  {
   "cell_type": "markdown",
   "id": "85fa21b4",
   "metadata": {},
   "source": [
    "### Step 7: Draw inference"
   ]
  },
  {
   "cell_type": "markdown",
   "id": "2687956c",
   "metadata": {},
   "source": [
    "Since the p-value is greater than the level of significance, we fail to reject the null hypothesis. We have enough statistical evidence to say that the time spent on the new landing page is the same for the different language users"
   ]
  },
  {
   "cell_type": "markdown",
   "id": "3acbc947",
   "metadata": {
    "id": "3acbc947"
   },
   "source": [
    "## Conclusion and Business Recommendations"
   ]
  },
  {
   "cell_type": "markdown",
   "id": "21fb1063",
   "metadata": {
    "id": "21fb1063"
   },
   "source": [
    "1. Users spend more time on the new landing page than they do on the old landing page.\n",
    "\n",
    "2. The proportion of users who gets converted on visiting the new landing page and therefore subscibe to the services of E-News is greater than those who get converted on visiting the old landing page. \n",
    "\n",
    "3. The language of engagement does not play any significant role in whether a visitor gets converted and therefore subscibes to the services of E-News.\n",
    "\n",
    "4. There is also no significant difference in time spent on the new landing page using the different languages of engament.\n",
    "\n",
    "It is therefore safe to recommend that management of E-News can phase out the old landing page and start serving all their users the new landing page with the different langusges of engagement."
   ]
  },
  {
   "cell_type": "markdown",
   "id": "af7127c9",
   "metadata": {},
   "source": [
    "### The folowing section was added for personal use.\n",
    "#### This was to help in validating the answer to question #4"
   ]
  },
  {
   "cell_type": "code",
   "execution_count": 58,
   "id": "f6cd6a89",
   "metadata": {},
   "outputs": [
    {
     "name": "stdout",
     "output_type": "stream",
     "text": [
      " Multiple Comparison of Means - Tukey HSD, FWER=0.05 \n",
      "=====================================================\n",
      " group1  group2 meandiff p-adj   lower  upper  reject\n",
      "-----------------------------------------------------\n",
      "English  French  -0.4673 0.7434 -2.0035  1.069  False\n",
      "English Spanish  -0.8285 0.3995 -2.3647 0.7078  False\n",
      " French Spanish  -0.3612 0.8326  -1.874 1.1516  False\n",
      "-----------------------------------------------------\n"
     ]
    }
   ],
   "source": [
    "# perform multiple pairwise comparison (Tukey HSD)\n",
    "m_comp = pairwise_tukeyhsd(endog = df_new_lp['time_spent_on_the_page'], groups = df_new_lp['language_preferred'], alpha = 0.05)\n",
    "print(m_comp)"
   ]
  },
  {
   "cell_type": "markdown",
   "id": "b629bbd5",
   "metadata": {},
   "source": [
    "#### This test serves as proof of  correctness for the result arrived at in the One-way ANOVA test of equality of means carried out in question No4\n",
    "\n",
    "All the means for time spent on the new landing page are similar for the different language users."
   ]
  },
  {
   "cell_type": "code",
   "execution_count": null,
   "id": "82538dba",
   "metadata": {},
   "outputs": [],
   "source": []
  }
 ],
 "metadata": {
  "colab": {
   "collapsed_sections": [
    "a6a3d218",
    "6970dd99",
    "9d75cfa2",
    "68f3b2c9",
    "fad2de2f",
    "27906576",
    "e5fdf0c8",
    "56b3dafd",
    "c7ee4907",
    "3f58c9a7",
    "5fed2eac",
    "f5c5258d",
    "359b12f8",
    "d9affc84",
    "353e9d24",
    "d49bfa2d",
    "8d585a90",
    "3acbc947"
   ],
   "name": "ENews_Express_Learner_Notebook_Full_Code v1.1.ipynb",
   "provenance": []
  },
  "kernelspec": {
   "display_name": "Python 3 (ipykernel)",
   "language": "python",
   "name": "python3"
  },
  "language_info": {
   "codemirror_mode": {
    "name": "ipython",
    "version": 3
   },
   "file_extension": ".py",
   "mimetype": "text/x-python",
   "name": "python",
   "nbconvert_exporter": "python",
   "pygments_lexer": "ipython3",
   "version": "3.9.12"
  }
 },
 "nbformat": 4,
 "nbformat_minor": 5
}
